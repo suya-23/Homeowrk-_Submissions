{
  "nbformat": 4,
  "nbformat_minor": 0,
  "metadata": {
    "colab": {
      "name": "AirportCodesSuhasY.ipynb",
      "provenance": []
    },
    "kernelspec": {
      "name": "python3",
      "display_name": "Python 3"
    },
    "language_info": {
      "name": "python"
    }
  },
  "cells": [
    {
      "cell_type": "code",
      "metadata": {
        "colab": {
          "base_uri": "https://localhost:8080/"
        },
        "id": "nzMdOflVOh5-",
        "outputId": "bbaab265-9baa-468d-b5d2-996bd645ea6c"
      },
      "source": [
        "import os\n",
        "# Find the latest version of spark 3.0  from http://www-us.apache.org/dist/spark/ and enter as the spark version\n",
        "# For example:\n",
        "spark_version = 'spark-3.0.1'\n",
        "# spark_version = 'spark-3.<enter version>'\n",
        "os.environ['SPARK_VERSION']=spark_version\n",
        "\n",
        "# Install Spark and Java\n",
        "!apt-get update\n",
        "!apt-get install openjdk-11-jdk-headless -qq > /dev/null\n",
        "!wget -q https://archive.apache.org/dist/spark/spark-3.0.1/spark-3.0.1-bin-hadoop2.7.tgz\n",
        "!tar xf spark-3.0.1-bin-hadoop2.7.tgz\n",
        "\n",
        "!pip install -q findspark\n",
        "\n",
        "# Set Environment Variables\n",
        "os.environ[\"JAVA_HOME\"] = \"/usr/lib/jvm/java-11-openjdk-amd64\"\n",
        "os.environ[\"SPARK_HOME\"] = f\"/content/spark-3.0.1-bin-hadoop2.7\"\n",
        "\n",
        "# Start a SparkSession\n",
        "import findspark\n",
        "findspark.init()"
      ],
      "execution_count": 1,
      "outputs": [
        {
          "output_type": "stream",
          "name": "stdout",
          "text": [
            "\r0% [Working]\r            \rHit:1 https://cloud.r-project.org/bin/linux/ubuntu bionic-cran40/ InRelease\n",
            "Ign:2 https://developer.download.nvidia.com/compute/cuda/repos/ubuntu1804/x86_64  InRelease\n",
            "Hit:3 http://security.ubuntu.com/ubuntu bionic-security InRelease\n",
            "Ign:4 https://developer.download.nvidia.com/compute/machine-learning/repos/ubuntu1804/x86_64  InRelease\n",
            "Hit:5 https://developer.download.nvidia.com/compute/cuda/repos/ubuntu1804/x86_64  Release\n",
            "Hit:6 https://developer.download.nvidia.com/compute/machine-learning/repos/ubuntu1804/x86_64  Release\n",
            "Hit:7 http://archive.ubuntu.com/ubuntu bionic InRelease\n",
            "Hit:8 http://ppa.launchpad.net/c2d4u.team/c2d4u4.0+/ubuntu bionic InRelease\n",
            "Hit:9 http://archive.ubuntu.com/ubuntu bionic-updates InRelease\n",
            "Hit:10 http://archive.ubuntu.com/ubuntu bionic-backports InRelease\n",
            "Hit:11 http://ppa.launchpad.net/cran/libgit2/ubuntu bionic InRelease\n",
            "Hit:12 http://ppa.launchpad.net/deadsnakes/ppa/ubuntu bionic InRelease\n",
            "Hit:14 http://ppa.launchpad.net/graphics-drivers/ppa/ubuntu bionic InRelease\n",
            "Reading package lists... Done\n"
          ]
        }
      ]
    },
    {
      "cell_type": "code",
      "metadata": {
        "id": "gs_JjWk1Pgxl"
      },
      "source": [
        "\n",
        "from pyspark.sql import SparkSession\n",
        "from pyspark.sql import Row\n",
        "from pyspark.sql.types import StructType,StructField,StringType, DateType,IntegerType\n",
        "\n",
        "\n",
        "# Create a SparkSession\n",
        "spark = SparkSession.builder.appName(\"SkillDrill8-1\").getOrCreate()\n",
        "spark.conf.set(\"spark.sql.shuffle.partitions\", 4) "
      ],
      "execution_count": 2,
      "outputs": []
    },
    {
      "cell_type": "code",
      "metadata": {
        "id": "kSSEz0hNPjrh"
      },
      "source": [
        "df = spark.read.csv(\"../Resources/airportCodes.csv\", header=True, inferSchema=True) \n",
        "df=df.filter(\"country='USA'\") \n"
      ],
      "execution_count": 3,
      "outputs": []
    },
    {
      "cell_type": "code",
      "metadata": {
        "colab": {
          "base_uri": "https://localhost:8080/"
        },
        "id": "7DjxYvH8Ps8P",
        "outputId": "9919bb29-a987-400b-a757-87f9f574f7a3"
      },
      "source": [
        "df.show() "
      ],
      "execution_count": 4,
      "outputs": [
        {
          "output_type": "stream",
          "name": "stdout",
          "text": [
            "+-----------------+-------+-----------+\n",
            "|             City|country|airportCode|\n",
            "+-----------------+-------+-----------+\n",
            "|     Aberdeen, SD|    USA|        ABR|\n",
            "|      Abilene, TX|    USA|        ABI|\n",
            "|        Akron, OH|    USA|        CAK|\n",
            "|      Alamosa, CO|    USA|        ALS|\n",
            "|       Albany, GA|    USA|        ABY|\n",
            "|       Albany, NY|    USA|        ALB|\n",
            "|  Albuquerque, NM|    USA|        ABQ|\n",
            "|   Alexandria, LA|    USA|        AEX|\n",
            "|    Allentown, PA|    USA|        ABE|\n",
            "|     Alliance, NE|    USA|        AIA|\n",
            "|       Alpena, MI|    USA|        APN|\n",
            "|      Altoona, PA|    USA|        AOO|\n",
            "|     Amarillo, TX|    USA|        AMA|\n",
            "|    Anchorage, AK|    USA|        ANC|\n",
            "|     Appleton, WI|    USA|        ATW|\n",
            "|    Asheville, NC|    USA|        AVL|\n",
            "|        Aspen, CO|    USA|        ASE|\n",
            "|       Athens, GA|    USA|        AHN|\n",
            "|      Atlanta, GA|    USA|        ATL|\n",
            "|Atlantic City, NJ|    USA|        ACY|\n",
            "+-----------------+-------+-----------+\n",
            "only showing top 20 rows\n",
            "\n"
          ]
        }
      ]
    },
    {
      "cell_type": "code",
      "metadata": {
        "id": "_UTZz2_kP0H6"
      },
      "source": [
        "df.write.parquet('parquet_codes_basic',mode='overwrite') "
      ],
      "execution_count": 5,
      "outputs": []
    },
    {
      "cell_type": "code",
      "metadata": {
        "id": "udXMUJQ8P0cl"
      },
      "source": [
        "p_df=spark.read.parquet('parquet_codes_basic') "
      ],
      "execution_count": 6,
      "outputs": []
    },
    {
      "cell_type": "code",
      "metadata": {
        "id": "-Tqwo23EP0iN"
      },
      "source": [
        "p_df.createOrReplaceTempView('p_codes') "
      ],
      "execution_count": 7,
      "outputs": []
    },
    {
      "cell_type": "code",
      "metadata": {
        "id": "rtqU_FgTRMM9"
      },
      "source": [
        "df.write.partitionBy(\"City\").mode(\"overwrite\").parquet(\"delayed_partitioned\") "
      ],
      "execution_count": 8,
      "outputs": []
    },
    {
      "cell_type": "code",
      "metadata": {
        "id": "-yqw2vAgP7RA"
      },
      "source": [
        "p_df_p=spark.read.parquet('delayed_partitioned') "
      ],
      "execution_count": 9,
      "outputs": []
    },
    {
      "cell_type": "code",
      "metadata": {
        "id": "i763nMYgP9Yv"
      },
      "source": [
        "p_df_p.createOrReplaceTempView('p_codes_p') "
      ],
      "execution_count": 10,
      "outputs": []
    },
    {
      "cell_type": "code",
      "metadata": {
        "colab": {
          "base_uri": "https://localhost:8080/"
        },
        "id": "NHiBoU8YSjv9",
        "outputId": "30d17199-3008-4e29-ffab-5ee073544504"
      },
      "source": [
        "spark.sql(\"cache table p_codes_p\") "
      ],
      "execution_count": 11,
      "outputs": [
        {
          "output_type": "execute_result",
          "data": {
            "text/plain": [
              "DataFrame[]"
            ]
          },
          "metadata": {},
          "execution_count": 11
        }
      ]
    },
    {
      "cell_type": "code",
      "metadata": {
        "id": "Yqqt8LlrUQsp"
      },
      "source": [
        ""
      ],
      "execution_count": 11,
      "outputs": []
    },
    {
      "cell_type": "code",
      "metadata": {
        "colab": {
          "base_uri": "https://localhost:8080/"
        },
        "id": "2DcJHecrSnWG",
        "outputId": "73f783c4-b8e1-4b21-b04d-bb85059c5067"
      },
      "source": [
        "spark.catalog.isCached(\"p_codes_p\") "
      ],
      "execution_count": 12,
      "outputs": [
        {
          "output_type": "execute_result",
          "data": {
            "text/plain": [
              "True"
            ]
          },
          "metadata": {},
          "execution_count": 12
        }
      ]
    },
    {
      "cell_type": "code",
      "metadata": {
        "colab": {
          "base_uri": "https://localhost:8080/"
        },
        "id": "g9VqtUpPVu9B",
        "outputId": "75aa6e35-4bf1-4260-bb59-3d3c73a31ce0"
      },
      "source": [
        "spark.sql(\"uncache table p_codes_p\")\n"
      ],
      "execution_count": 13,
      "outputs": [
        {
          "output_type": "execute_result",
          "data": {
            "text/plain": [
              "DataFrame[]"
            ]
          },
          "metadata": {},
          "execution_count": 13
        }
      ]
    },
    {
      "cell_type": "code",
      "metadata": {
        "colab": {
          "base_uri": "https://localhost:8080/"
        },
        "id": "k3-HcAWXSnty",
        "outputId": "4a098ad0-8507-499e-ab57-8549508123e5"
      },
      "source": [
        " #Verify that the table is no longer cached\n",
        "if spark.catalog.isCached(\"p_codes_p\") :\n",
        "  print(\"a table is till cached\")\n",
        "else:\n",
        "  print(\"all clear\")"
      ],
      "execution_count": 14,
      "outputs": [
        {
          "output_type": "stream",
          "name": "stdout",
          "text": [
            "all clear\n"
          ]
        }
      ]
    },
    {
      "cell_type": "code",
      "metadata": {
        "id": "IGF_8xnMSrPn"
      },
      "source": [
        ""
      ],
      "execution_count": 14,
      "outputs": []
    }
  ]
}