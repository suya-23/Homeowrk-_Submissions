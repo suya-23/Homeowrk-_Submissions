{
 "cells": [
  {
   "cell_type": "code",
   "execution_count": 314,
   "metadata": {},
   "outputs": [],
   "source": [
    "# Import the 'os' and 'csv' libraries\n",
    "# Import Dependencies\n",
    "import csv\n",
    "import os\n"
   ]
  },
  {
   "cell_type": "code",
   "execution_count": 315,
   "metadata": {},
   "outputs": [],
   "source": [
    "# Set path for importing our CSV file\n",
    "file_one = os.path.join('..','Resources', 'yahoo_stock.csv')"
   ]
  },
  {
   "cell_type": "code",
   "execution_count": 316,
   "metadata": {},
   "outputs": [],
   "source": [
    "max_pct=0\n",
    "printrow = None\n"
   ]
  },
  {
   "cell_type": "code",
   "execution_count": 317,
   "metadata": {},
   "outputs": [],
   "source": [
    "# Open a connection to the comma-delimited csv file \n",
    "input_file = csv.DictReader(open(file_one))\n",
    "\n",
    "for row in input_file:\n",
    "    hi=float(row[\"Close\"]) - float(row[\"Open\"])\n",
    "    hi2=hi/float(row[\"Open\"])*100\n",
    "    if max_pct>hi2:\n",
    "        max_pct=hi2\n",
    "        printrow=row\n"
   ]
  },
  {
   "cell_type": "code",
   "execution_count": 318,
   "metadata": {},
   "outputs": [
    {
     "name": "stdout",
     "output_type": "stream",
     "text": [
      "{'Date': '3/12/2020', 'High': '2660.949951', 'Low': '2478.860107', 'Open': '2630.860107', 'Close': '2480.639893', 'Volume': '8829380000', 'Adj Close': '2480.639893'}\n"
     ]
    }
   ],
   "source": [
    "# Print out the date, stock high, stock low, volume and percent change for the day with the greatest percent change\n",
    "print(printrow)"
   ]
  },
  {
   "cell_type": "code",
   "execution_count": null,
   "metadata": {},
   "outputs": [],
   "source": []
  }
 ],
 "metadata": {
  "kernelspec": {
   "display_name": "Python 3",
   "language": "python",
   "name": "python3"
  },
  "language_info": {
   "codemirror_mode": {
    "name": "ipython",
    "version": 3
   },
   "file_extension": ".py",
   "mimetype": "text/x-python",
   "name": "python",
   "nbconvert_exporter": "python",
   "pygments_lexer": "ipython3",
   "version": "3.8.8"
  }
 },
 "nbformat": 4,
 "nbformat_minor": 4
}
